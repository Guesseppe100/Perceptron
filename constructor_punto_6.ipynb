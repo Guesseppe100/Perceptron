{
  "cells": [
    {
      "cell_type": "code",
      "execution_count": 5,
      "metadata": {
        "colab": {
          "base_uri": "https://localhost:8080/"
        },
        "id": "q2HhbKkGUxs-",
        "outputId": "db770685-51d5-4a99-d182-5fb587bcf1a5"
      },
      "outputs": [],
      "source": [
        "# Descarga tu repositorio desde GitHub\n",
        "#!git clone git@github.com:Guesseppe100/Perceptron.git\n"
      ]
    },
    {
      "cell_type": "code",
      "execution_count": 6,
      "metadata": {},
      "outputs": [
        {
          "name": "stdout",
          "output_type": "stream",
          "text": [
            "Requirement already satisfied: tensorflow in c:\\users\\ser_s\\anaconda3\\envs\\analitica\\lib\\site-packages (2.20.0)\n",
            "Requirement already satisfied: absl-py>=1.0.0 in c:\\users\\ser_s\\anaconda3\\envs\\analitica\\lib\\site-packages (from tensorflow) (2.3.1)\n",
            "Requirement already satisfied: astunparse>=1.6.0 in c:\\users\\ser_s\\anaconda3\\envs\\analitica\\lib\\site-packages (from tensorflow) (1.6.3)\n",
            "Requirement already satisfied: flatbuffers>=24.3.25 in c:\\users\\ser_s\\anaconda3\\envs\\analitica\\lib\\site-packages (from tensorflow) (25.2.10)\n",
            "Requirement already satisfied: gast!=0.5.0,!=0.5.1,!=0.5.2,>=0.2.1 in c:\\users\\ser_s\\anaconda3\\envs\\analitica\\lib\\site-packages (from tensorflow) (0.6.0)\n",
            "Requirement already satisfied: google_pasta>=0.1.1 in c:\\users\\ser_s\\anaconda3\\envs\\analitica\\lib\\site-packages (from tensorflow) (0.2.0)\n",
            "Requirement already satisfied: libclang>=13.0.0 in c:\\users\\ser_s\\anaconda3\\envs\\analitica\\lib\\site-packages (from tensorflow) (18.1.1)\n",
            "Requirement already satisfied: opt_einsum>=2.3.2 in c:\\users\\ser_s\\anaconda3\\envs\\analitica\\lib\\site-packages (from tensorflow) (3.4.0)\n",
            "Requirement already satisfied: packaging in c:\\users\\ser_s\\anaconda3\\envs\\analitica\\lib\\site-packages (from tensorflow) (24.1)\n",
            "Requirement already satisfied: protobuf>=5.28.0 in c:\\users\\ser_s\\anaconda3\\envs\\analitica\\lib\\site-packages (from tensorflow) (6.32.1)\n",
            "Requirement already satisfied: requests<3,>=2.21.0 in c:\\users\\ser_s\\anaconda3\\envs\\analitica\\lib\\site-packages (from tensorflow) (2.32.3)\n",
            "Requirement already satisfied: setuptools in c:\\users\\ser_s\\anaconda3\\envs\\analitica\\lib\\site-packages (from tensorflow) (69.5.1)\n",
            "Requirement already satisfied: six>=1.12.0 in c:\\users\\ser_s\\anaconda3\\envs\\analitica\\lib\\site-packages (from tensorflow) (1.16.0)\n",
            "Requirement already satisfied: termcolor>=1.1.0 in c:\\users\\ser_s\\anaconda3\\envs\\analitica\\lib\\site-packages (from tensorflow) (3.1.0)\n",
            "Requirement already satisfied: typing_extensions>=3.6.6 in c:\\users\\ser_s\\anaconda3\\envs\\analitica\\lib\\site-packages (from tensorflow) (4.12.2)\n",
            "Requirement already satisfied: wrapt>=1.11.0 in c:\\users\\ser_s\\anaconda3\\envs\\analitica\\lib\\site-packages (from tensorflow) (1.17.3)\n",
            "Requirement already satisfied: grpcio<2.0,>=1.24.3 in c:\\users\\ser_s\\anaconda3\\envs\\analitica\\lib\\site-packages (from tensorflow) (1.75.0)\n",
            "Requirement already satisfied: tensorboard~=2.20.0 in c:\\users\\ser_s\\anaconda3\\envs\\analitica\\lib\\site-packages (from tensorflow) (2.20.0)\n",
            "Requirement already satisfied: keras>=3.10.0 in c:\\users\\ser_s\\anaconda3\\envs\\analitica\\lib\\site-packages (from tensorflow) (3.10.0)\n",
            "Requirement already satisfied: numpy>=1.26.0 in c:\\users\\ser_s\\anaconda3\\envs\\analitica\\lib\\site-packages (from tensorflow) (2.0.2)\n",
            "Requirement already satisfied: h5py>=3.11.0 in c:\\users\\ser_s\\anaconda3\\envs\\analitica\\lib\\site-packages (from tensorflow) (3.14.0)\n",
            "Requirement already satisfied: ml_dtypes<1.0.0,>=0.5.1 in c:\\users\\ser_s\\anaconda3\\envs\\analitica\\lib\\site-packages (from tensorflow) (0.5.3)\n",
            "Requirement already satisfied: wheel<1.0,>=0.23.0 in c:\\users\\ser_s\\anaconda3\\envs\\analitica\\lib\\site-packages (from astunparse>=1.6.0->tensorflow) (0.43.0)\n",
            "Requirement already satisfied: rich in c:\\users\\ser_s\\anaconda3\\envs\\analitica\\lib\\site-packages (from keras>=3.10.0->tensorflow) (14.1.0)\n",
            "Requirement already satisfied: namex in c:\\users\\ser_s\\anaconda3\\envs\\analitica\\lib\\site-packages (from keras>=3.10.0->tensorflow) (0.1.0)\n",
            "Requirement already satisfied: optree in c:\\users\\ser_s\\anaconda3\\envs\\analitica\\lib\\site-packages (from keras>=3.10.0->tensorflow) (0.17.0)\n",
            "Requirement already satisfied: charset-normalizer<4,>=2 in c:\\users\\ser_s\\anaconda3\\envs\\analitica\\lib\\site-packages (from requests<3,>=2.21.0->tensorflow) (3.4.2)\n",
            "Requirement already satisfied: idna<4,>=2.5 in c:\\users\\ser_s\\anaconda3\\envs\\analitica\\lib\\site-packages (from requests<3,>=2.21.0->tensorflow) (3.10)\n",
            "Requirement already satisfied: urllib3<3,>=1.21.1 in c:\\users\\ser_s\\anaconda3\\envs\\analitica\\lib\\site-packages (from requests<3,>=2.21.0->tensorflow) (2.3.0)\n",
            "Requirement already satisfied: certifi>=2017.4.17 in c:\\users\\ser_s\\anaconda3\\envs\\analitica\\lib\\site-packages (from requests<3,>=2.21.0->tensorflow) (2025.1.31)\n",
            "Requirement already satisfied: markdown>=2.6.8 in c:\\users\\ser_s\\anaconda3\\envs\\analitica\\lib\\site-packages (from tensorboard~=2.20.0->tensorflow) (3.9)\n",
            "Requirement already satisfied: pillow in c:\\users\\ser_s\\anaconda3\\envs\\analitica\\lib\\site-packages (from tensorboard~=2.20.0->tensorflow) (11.1.0)\n",
            "Requirement already satisfied: tensorboard-data-server<0.8.0,>=0.7.0 in c:\\users\\ser_s\\anaconda3\\envs\\analitica\\lib\\site-packages (from tensorboard~=2.20.0->tensorflow) (0.7.2)\n",
            "Requirement already satisfied: werkzeug>=1.0.1 in c:\\users\\ser_s\\anaconda3\\envs\\analitica\\lib\\site-packages (from tensorboard~=2.20.0->tensorflow) (3.1.3)\n",
            "Requirement already satisfied: importlib-metadata>=4.4 in c:\\users\\ser_s\\anaconda3\\envs\\analitica\\lib\\site-packages (from markdown>=2.6.8->tensorboard~=2.20.0->tensorflow) (8.2.0)\n",
            "Requirement already satisfied: MarkupSafe>=2.1.1 in c:\\users\\ser_s\\anaconda3\\envs\\analitica\\lib\\site-packages (from werkzeug>=1.0.1->tensorboard~=2.20.0->tensorflow) (3.0.2)\n",
            "Requirement already satisfied: markdown-it-py>=2.2.0 in c:\\users\\ser_s\\anaconda3\\envs\\analitica\\lib\\site-packages (from rich->keras>=3.10.0->tensorflow) (3.0.0)\n",
            "Requirement already satisfied: pygments<3.0.0,>=2.13.0 in c:\\users\\ser_s\\anaconda3\\envs\\analitica\\lib\\site-packages (from rich->keras>=3.10.0->tensorflow) (2.18.0)\n",
            "Requirement already satisfied: zipp>=0.5 in c:\\users\\ser_s\\anaconda3\\envs\\analitica\\lib\\site-packages (from importlib-metadata>=4.4->markdown>=2.6.8->tensorboard~=2.20.0->tensorflow) (3.19.2)\n",
            "Requirement already satisfied: mdurl~=0.1 in c:\\users\\ser_s\\anaconda3\\envs\\analitica\\lib\\site-packages (from markdown-it-py>=2.2.0->rich->keras>=3.10.0->tensorflow) (0.1.2)\n",
            "Note: you may need to restart the kernel to use updated packages.\n"
          ]
        }
      ],
      "source": [
        "%pip install tensorflow\n",
        "import tensorflow as tf\n",
        "\n",
        "# Datos de entrada\n",
        "x = tf.constant(1.0)   # entrada a la neurona\n",
        "t = tf.constant(0.0)   # valor objetivo\n",
        "\n",
        "# Parámetros del modelo\n",
        "a = tf.Variable(0.5)   # peso inicial\n",
        "b = tf.Variable(0.0)   # sesgo inicial\n",
        "\n",
        "# Grabamos las operaciones para calcular gradientes\n",
        "with tf.GradientTape() as tape:\n",
        "    # Paso 1: cálculo de la salida de la neurona\n",
        "    z = a * x + b\n",
        "    y = tf.sigmoid(z)\n",
        "    \n",
        "    # Paso 2: cálculo del costo cuadrático medio\n",
        "    J = 0.5 * tf.square(y - t)\n",
        "\n",
        "# Gradientes automáticos con respecto a a y b\n",
        "grad_a, grad_b = tape.gradient(J, [a, b])\n",
        "\n",
        "# Cálculo manual\n",
        "dy = y * (1 - y)        # dy/dz\n",
        "dz_da = x               # dz/da\n",
        "dz_db = 1.0             # dz/db\n",
        "grad_a_manual = (y - t) * dy * dz_da\n",
        "grad_b_manual = (y - t) * dy * dz_db\n",
        "\n"
      ]
    },
    {
      "cell_type": "code",
      "execution_count": 7,
      "metadata": {},
      "outputs": [
        {
          "name": "stdout",
          "output_type": "stream",
          "text": [
            "Gradientes automáticos:\n",
            "dJ/da = 0.1463\n",
            "dJ/db = 0.1463\n",
            "\n",
            "Gradientes manuales:\n",
            "dJ/da = 0.1463\n",
            "dJ/db = 0.1463\n"
          ]
        }
      ],
      "source": [
        "# Resultados\n",
        "print(\"Gradientes automáticos:\")\n",
        "print(f\"dJ/da = {grad_a.numpy():.4f}\")\n",
        "print(f\"dJ/db = {grad_b.numpy():.4f}\")\n",
        "\n",
        "print(\"\\nGradientes manuales:\")\n",
        "print(f\"dJ/da = {grad_a_manual.numpy():.4f}\")\n",
        "print(f\"dJ/db = {grad_b_manual.numpy():.4f}\")\n"
      ]
    }
  ],
  "metadata": {
    "colab": {
      "provenance": []
    },
    "kernelspec": {
      "display_name": "Analitica",
      "language": "python",
      "name": "python3"
    },
    "language_info": {
      "codemirror_mode": {
        "name": "ipython",
        "version": 3
      },
      "file_extension": ".py",
      "mimetype": "text/x-python",
      "name": "python",
      "nbconvert_exporter": "python",
      "pygments_lexer": "ipython3",
      "version": "3.9.19"
    }
  },
  "nbformat": 4,
  "nbformat_minor": 0
}
