{
  "cells": [
    {
      "cell_type": "code",
      "execution_count": 18,
      "metadata": {
        "colab": {
          "base_uri": "https://localhost:8080/"
        },
        "id": "q2HhbKkGUxs-",
        "outputId": "db770685-51d5-4a99-d182-5fb587bcf1a5"
      },
      "outputs": [],
      "source": [
        "# Descarga tu repositorio desde GitHub\n",
        "#!git clone https://github.com/Wmarbar/CProgram_incidencias.git\n",
        "\n",
        "# Cambia de directorio para acceder a los archivos\n",
        "#%cd CProgram_incidencias\n",
        "\n",
        "# Verifica que los archivos estén\n",
        "#!ls\n"
      ]
    },
    {
      "cell_type": "code",
      "execution_count": 19,
      "metadata": {},
      "outputs": [],
      "source": [
        "import numpy as np"
      ]
    },
    {
      "cell_type": "code",
      "execution_count": 20,
      "metadata": {},
      "outputs": [],
      "source": [
        "def f(z):\n",
        "    if z >= 0:\n",
        "        return 1\n",
        "    else:\n",
        "        return 0"
      ]
    },
    {
      "cell_type": "code",
      "execution_count": 21,
      "metadata": {},
      "outputs": [],
      "source": [
        "x = np.array([[0,0], [0,1], [1,0], [1,1]])\n",
        "y = np.array([0,0,0,1])\n",
        "yor = np.array([0,1,1,1])"
      ]
    },
    {
      "cell_type": "code",
      "execution_count": 22,
      "metadata": {},
      "outputs": [],
      "source": [
        "def perceptron (X,y, lr=1,epochs=10):\n",
        "  n_samples,n_features=X.shape\n",
        "  w=np.zeros(n_features)\n",
        "  b=0\n",
        "  for _ in range(epochs):\n",
        "    for i in range(n_samples):\n",
        "      output= np.dot(X[i],w)+b\n",
        "      y_pred=f(output)\n",
        "      error = y[i]-y_pred\n",
        "      #Actualiza los pesos\n",
        "      w+= lr*(error)*X[i]\n",
        "      b+= lr*(error)\n",
        "  return w,b"
      ]
    },
    {
      "cell_type": "markdown",
      "metadata": {},
      "source": [
        "## AND"
      ]
    },
    {
      "cell_type": "code",
      "execution_count": 23,
      "metadata": {},
      "outputs": [],
      "source": [
        "w,b=perceptron(x,y)"
      ]
    },
    {
      "cell_type": "code",
      "execution_count": 24,
      "metadata": {},
      "outputs": [
        {
          "name": "stdout",
          "output_type": "stream",
          "text": [
            "Entrada: [0 0], prediccion: 0\n",
            "Entrada: [0 1], prediccion: 0\n",
            "Entrada: [1 0], prediccion: 0\n",
            "Entrada: [1 1], prediccion: 1\n"
          ]
        }
      ],
      "source": [
        "for xi in x:\n",
        "    print(f\"Entrada: {xi}, prediccion: {f(np.dot(xi, w) + b)}\")\n"
      ]
    },
    {
      "cell_type": "markdown",
      "metadata": {},
      "source": [
        "## OR"
      ]
    },
    {
      "cell_type": "code",
      "execution_count": 25,
      "metadata": {},
      "outputs": [],
      "source": [
        "w,b=perceptron(x,yor)"
      ]
    },
    {
      "cell_type": "code",
      "execution_count": 26,
      "metadata": {},
      "outputs": [
        {
          "name": "stdout",
          "output_type": "stream",
          "text": [
            "Entrada: [0 0], prediccion: 0\n",
            "Entrada: [0 1], prediccion: 1\n",
            "Entrada: [1 0], prediccion: 1\n",
            "Entrada: [1 1], prediccion: 1\n"
          ]
        }
      ],
      "source": [
        "for xi in x:\n",
        "    print(f\"Entrada: {xi}, prediccion: {f(np.dot(xi, w) + b)}\")"
      ]
    }
  ],
  "metadata": {
    "colab": {
      "provenance": []
    },
    "kernelspec": {
      "display_name": "Analitica",
      "language": "python",
      "name": "python3"
    },
    "language_info": {
      "codemirror_mode": {
        "name": "ipython",
        "version": 3
      },
      "file_extension": ".py",
      "mimetype": "text/x-python",
      "name": "python",
      "nbconvert_exporter": "python",
      "pygments_lexer": "ipython3",
      "version": "3.9.19"
    }
  },
  "nbformat": 4,
  "nbformat_minor": 0
}
